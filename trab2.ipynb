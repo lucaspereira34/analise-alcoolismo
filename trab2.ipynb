{
 "cells": [
  {
   "cell_type": "code",
   "execution_count": 1,
   "metadata": {},
   "outputs": [],
   "source": [
    "# Pacotes dash, pandas, plotly e numpy\n",
    "\n",
    "import dash\n",
    "from dash import dcc\n",
    "from dash import html\n",
    "from jupyter_dash import JupyterDash\n",
    "from dash.dependencies import Input, Output\n",
    "import pandas as pd\n",
    "import plotly.express as px\n",
    "import plotly.graph_objs as go\n",
    "import numpy as np"
   ]
  },
  {
   "cell_type": "code",
   "execution_count": 2,
   "metadata": {},
   "outputs": [],
   "source": [
    "df = pd.read_csv('gapminder_alcohol.csv', encoding='latin-1')\n",
    "df_country = pd.read_csv('countryContinent.csv', encoding='latin-1')"
   ]
  },
  {
   "cell_type": "code",
   "execution_count": 3,
   "metadata": {},
   "outputs": [],
   "source": [
    "df_country.drop(['code_2', 'country_code', 'iso_3166_2', 'sub_region', 'region_code', 'sub_region_code'], axis='columns', inplace=True)\n",
    "df_country = df_country.rename(columns={'country': 'País', 'continent': 'Continente'})\n",
    "df_country.replace('Europe', 'Europa', inplace=True)"
   ]
  },
  {
   "cell_type": "code",
   "execution_count": 4,
   "metadata": {},
   "outputs": [],
   "source": [
    "df = df.rename(columns={'country': 'País', 'alcconsumption': 'Consumo alcoolico', 'incomeperperson': 'Renda', 'suicideper100th': 'Taxa de suicidio', 'employrate': 'Taxa de emprego', 'urbanrate': 'População urbana' })"
   ]
  },
  {
   "cell_type": "code",
   "execution_count": 5,
   "metadata": {},
   "outputs": [],
   "source": [
    "df = df.dropna(subset=[\"Consumo alcoolico\"])\n"
   ]
  },
  {
   "cell_type": "code",
   "execution_count": 6,
   "metadata": {},
   "outputs": [],
   "source": [
    "df = pd.merge(df, df_country, how = 'left', on='País')"
   ]
  },
  {
   "cell_type": "code",
   "execution_count": 7,
   "metadata": {},
   "outputs": [],
   "source": [
    "external_stylesheets = ['https://codepen.io/chriddyp/pen/bWKwgP.css']\n",
    "\n",
    "app = dash.Dash(__name__, external_stylesheets=external_stylesheets)"
   ]
  },
  {
   "cell_type": "code",
   "execution_count": 8,
   "metadata": {},
   "outputs": [
    {
     "name": "stdout",
     "output_type": "stream",
     "text": [
      "Authtoken saved to configuration file: C:\\Users\\lucas/.ngrok2/ngrok.yml\n"
     ]
    }
   ],
   "source": [
    "! ngrok authtoken 24ZkCk77qCZZtOv5seygZ8VTdqT_6hKAJbCuRNx3wCLiZ9tTu"
   ]
  },
  {
   "cell_type": "code",
   "execution_count": 9,
   "metadata": {},
   "outputs": [
    {
     "data": {
      "text/plain": [
       "<NgrokTunnel: \"http://624d-177-37-203-86.ngrok.io\" -> \"http://localhost:8050\">"
      ]
     },
     "execution_count": 9,
     "metadata": {},
     "output_type": "execute_result"
    }
   ],
   "source": [
    "from pyngrok import ngrok\n",
    "\n",
    "public_url = ngrok.connect('8050')\n",
    "public_url"
   ]
  },
  {
   "cell_type": "code",
   "execution_count": null,
   "metadata": {},
   "outputs": [
    {
     "name": "stdout",
     "output_type": "stream",
     "text": [
      "Dash is running on http://127.0.0.1:8050/\n",
      "\n",
      " * Serving Flask app \"__main__\" (lazy loading)\n",
      " * Environment: production\n",
      "   WARNING: This is a development server. Do not use it in a production deployment.\n",
      "   Use a production WSGI server instead.\n",
      " * Debug mode: on\n"
     ]
    }
   ],
   "source": [
    "indicadores_lista = ['Consumo alcoolico', 'Renda', 'Taxa de suicidio', 'Taxa de emprego', 'População urbana']\n",
    "continentes_lista = df['Continente'].unique()\n",
    "mapa = px.choropleth(df, locations=\"code_3\",\n",
    "                    color='Consumo alcoolico', # lifeExp is a column of gapminder\n",
    "                    hover_name=\"País\", # column to add to hover information\n",
    "                    color_continuous_scale='reds')\n",
    "\n",
    "app.layout = html.Div([\n",
    "    \n",
    "    html.H1(\n",
    "        children='Dashboard - Indicadores sociais e consumo de bebidas alcoolicas',\n",
    "        style={\n",
    "            'textAlign': 'center'\n",
    "        }\n",
    "    ),\n",
    "    \n",
    "    html.H4(\n",
    "        children='''\n",
    "            Renda: Produto Interno Bruto per capita em US$ 2.000 constantes.\n",
    "            *OBS: As diferenças no custo de vida entre os países,\n",
    "            foram levadas em consideração\n",
    "        '''),\n",
    "    \n",
    "    html.H4(\n",
    "        children='''\n",
    "            Consumo alcoolico: Consumo per capita em litros de álcool puro (idade: 15+)\n",
    "        '''),\n",
    "    \n",
    "    html.H4(\n",
    "        children='''\n",
    "            Taxa de suicidio: Suicídio, ajustado por idade, por 100.000 habitantes\n",
    "            padrão devido a mortalidade por lesão autoinfligida.\n",
    "        '''),\n",
    "    \n",
    "    html.H4(\n",
    "        children='''\n",
    "            Taxa de emprego: Percentagem da população total, com idade superior a 15 anos,\n",
    "            que esteve empregada durante o ano determinado.\n",
    "        '''),\n",
    "    \n",
    "    html.H4(\n",
    "        children='''\n",
    "            População urbana: População que vive em áreas urbanas.\n",
    "        '''),\n",
    "    \n",
    "    html.H3(children='Consumo de bebidas alcoolicas no mundo:', style={\n",
    "        'textAlign': 'center'\n",
    "    }),\n",
    "    \n",
    "     dcc.Graph(\n",
    "        id='graph',\n",
    "        figure=mapa\n",
    "    ),\n",
    "    \n",
    "    html.H3(children='Indicadores:', style={\n",
    "        'textAlign': 'center'\n",
    "    }),\n",
    "    \n",
    "    html.Div([\n",
    "        dcc.Dropdown(\n",
    "            id='indicador_filtro',\n",
    "            options=[{'label':i, 'value':i} for i in indicadores_lista],\n",
    "            value='Renda')\n",
    "    ],style = {'width': '100%', 'align-items': 'center', 'justify-content': 'center'}),    \n",
    "    \n",
    "    html.Div([\n",
    "        dcc.Graph(id='graph1')\n",
    "    ], style={'width': '49%', 'float': 'left', 'display': 'inline-block'}),\n",
    "    \n",
    "    html.Div([\n",
    "        dcc.Graph(id='graph2')\n",
    "    ], style={'width': '49%', 'float': 'right','display': 'inline-block'}),\n",
    "    \n",
    "    html.H3(children='Visão detalhada do continente:', style={\n",
    "        'textAlign': 'center'\n",
    "    }),\n",
    "    \n",
    "    html.Div([\n",
    "        dcc.Dropdown(\n",
    "            id='continente_filtro',\n",
    "            options=[{'label':i, 'value':i} for i in continentes_lista],\n",
    "            value='Asia')\n",
    "    ],style = {'width': '100%', 'align-items': 'center', 'justify-content': 'center'}),   \n",
    "    \n",
    "    html.Div([\n",
    "        dcc.Graph(id='graph3')\n",
    "    ], style={'width': '100%', 'display': 'inline-block'})           \n",
    "    \n",
    "])\n",
    "\n",
    "@app.callback(\n",
    "    dash.dependencies.Output('graph1', 'figure'),\n",
    "    dash.dependencies.Output('graph2', 'figure'),    \n",
    "    dash.dependencies.Output('graph3', 'figure'),\n",
    "    dash.dependencies.Input('indicador_filtro', 'value'),\n",
    "    dash.dependencies.Input('continente_filtro', 'value'))\n",
    "\n",
    "def update_graph(indicador_filtro, continente_filtro):\n",
    "    fig = px.scatter(df, x='Consumo alcoolico', y=indicador_filtro, color='Continente')\n",
    "    \n",
    "    fig2 = px.pie(df, values=indicador_filtro, names='Continente', title=indicador_filtro)\n",
    "\n",
    "    fig3 = px.sunburst(df[df.Continente == continente_filtro], path=['País'], values='Consumo alcoolico',\n",
    "                      color='Consumo alcoolico', hover_data=['Taxa de suicidio'])\n",
    "    \n",
    "    return fig, fig2, fig3\n",
    "\n",
    "if __name__ == '__main__':\n",
    "    app.run_server(debug=True, use_reloader=False)"
   ]
  },
  {
   "cell_type": "code",
   "execution_count": null,
   "metadata": {},
   "outputs": [],
   "source": [
    "ngrok.kill()"
   ]
  },
  {
   "cell_type": "code",
   "execution_count": null,
   "metadata": {},
   "outputs": [],
   "source": [
    "fig2 = go.Figure(data = go.Choropleth(\n",
    "    locations = df['code_3'],\n",
    "    z = df['Consumo alcoolico'],\n",
    "        text = df['País'],\n",
    "        colorscale = 'reds',\n",
    "        autocolorscale = False,\n",
    "        reversescale = False,\n",
    "        marker_line_color = 'white',\n",
    "        marker_line_width = .5,\n",
    "        colorbar_title = 'Consumo alcoolico'))\n",
    "\n",
    "fig2.show()"
   ]
  },
  {
   "cell_type": "code",
   "execution_count": null,
   "metadata": {},
   "outputs": [],
   "source": [
    "fig = px.sunburst(df[df.Continente == 'Asia'], path=['País'], values='Consumo alcoolico',\n",
    "                  color='Consumo alcoolico', hover_data=['Taxa de suicidio'])\n",
    "fig.show()"
   ]
  },
  {
   "cell_type": "code",
   "execution_count": null,
   "metadata": {},
   "outputs": [],
   "source": [
    "fig = px.scatter(df, y=\"Taxa de suicidio\", x=\"Consumo alcoolico\", color=\"Continente\")\n",
    "#fig.show()\n",
    "app.layout = html.Div(children=[\n",
    "    html.H1(children='Hello Dash'),\n",
    "    \n",
    "    html.Div(children='''\n",
    "        Dash: A web application framework for Python\n",
    "    '''),\n",
    "    \n",
    "    dcc.Graph(\n",
    "        id='graph1',\n",
    "        figure=fig\n",
    "    )\n",
    "])\n",
    "\n",
    "if __name__ == '__main__':\n",
    "    app.run_server(debug=True, use_reloader=False)"
   ]
  }
 ],
 "metadata": {
  "kernelspec": {
   "display_name": "Python 3",
   "language": "python",
   "name": "python3"
  },
  "language_info": {
   "codemirror_mode": {
    "name": "ipython",
    "version": 3
   },
   "file_extension": ".py",
   "mimetype": "text/x-python",
   "name": "python",
   "nbconvert_exporter": "python",
   "pygments_lexer": "ipython3",
   "version": "3.8.5"
  }
 },
 "nbformat": 4,
 "nbformat_minor": 4
}
